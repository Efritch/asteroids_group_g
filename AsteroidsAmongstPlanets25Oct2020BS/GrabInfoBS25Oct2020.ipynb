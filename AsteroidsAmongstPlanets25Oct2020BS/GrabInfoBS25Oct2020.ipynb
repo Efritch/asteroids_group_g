{
 "cells": [
  {
   "cell_type": "code",
   "execution_count": 1,
   "metadata": {},
   "outputs": [],
   "source": [
    "# Imports\n",
    "import requests\n",
    "import pandas as pd\n",
    "\n",
    "#Functions for obtaining data\n",
    "\n",
    "#All Planets +- 20 years\n",
    "def obtainInfo(InitDate, EndDate, maxdist,err):\n",
    "    NasaUrl = f'https://ssd-api.jpl.nasa.gov/cad.api?body=ALL&date-min={InitDate}&date-max={EndDate}&dist-max={maxdist}&fullname=true&kind=a'\n",
    "    try:\n",
    "        resp = requests.get(NasaUrl).json()\n",
    "    except:\n",
    "        print(f'Unexpected error in obtaining data. Error Code: NasaGet{InitDate}')\n",
    "        pass\n",
    "    datapoints = resp['data']\n",
    "    resultsObt = int(resp['count'])\n",
    "    colheaders = resp['fields']\n",
    "    numColHeaders = len(colheaders)\n",
    "\n",
    "    df = pd.DataFrame([range(numColHeaders)])\n",
    "    df = df.iloc[1:]\n",
    "    df.columns = colheaders\n",
    "\n",
    "    for line in datapoints:\n",
    "        df_length = len(df)\n",
    "        df.loc[df_length] = line\n",
    "    return df\n",
    "\n",
    "#Inner Planets over 50 years\n",
    "def ObtainPlanetInfo(planet):\n",
    "    InitDate = \"1969-01-01\"\n",
    "    EndDate = \"2019-12-31\"\n",
    "    # Aprox 5 mil miles\n",
    "    maxdist = \"21LD\"\n",
    "    NasaUrl = f'https://ssd-api.jpl.nasa.gov/cad.api?body={planet}&date-min={InitDate}&date-max={EndDate}&dist-max={maxdist}&fullname=true&kind=a'\n",
    "    try:\n",
    "        resp = requests.get(NasaUrl).json()\n",
    "    except:\n",
    "        print(f'Unexpected error in obtaining data. Error Code: NasaGet{planet.upper()}')\n",
    "        pass\n",
    "    datapoints = resp['data']\n",
    "    resultsObt = int(resp['count'])\n",
    "    colheaders = resp['fields']\n",
    "    numColHeaders = len(colheaders)\n",
    "\n",
    "    df = pd.DataFrame([range(numColHeaders)])\n",
    "    df = df.iloc[1:]\n",
    "    df.columns = colheaders\n",
    "\n",
    "    for line in datapoints:\n",
    "        df_length = len(df)\n",
    "        df.loc[df_length] = line\n",
    "    return df"
   ]
  },
  {
   "cell_type": "code",
   "execution_count": 2,
   "metadata": {},
   "outputs": [],
   "source": [
    "try:\n",
    "    aDFL=obtainInfo(\"1999-01-01\", \"2019-12-31\", \"21LD\",\"Last10\")\n",
    "    aDFL.to_csv('aDFLast20yr.csv', index=False)\n",
    "except:\n",
    "        print(f'Unexpected error in obtaining data. Error Code: NasaGetaDFL')\n",
    "        pass"
   ]
  },
  {
   "cell_type": "code",
   "execution_count": 3,
   "metadata": {},
   "outputs": [],
   "source": [
    "try:\n",
    "    aDFN=obtainInfo(\"2021-01-01\", \"2041-12-31\", \"21LD\",\"Next10\")\n",
    "    aDFN.to_csv('aDFNext20yr.csv', index=False)\n",
    "except:\n",
    "        print(f'Unexpected error in saving data. Error Code: NasaGetaDFN')\n",
    "        pass"
   ]
  },
  {
   "cell_type": "code",
   "execution_count": 4,
   "metadata": {},
   "outputs": [],
   "source": [
    "#Parameters\n",
    "PlanetList = [\"Merc\",\"Venus\",\"Earth\",\"Mars\"]\n",
    "\n",
    "# Calling function and saving data as Data Frame\n",
    "try:\n",
    "    for planet in PlanetList:\n",
    "        if planet==\"Merc\":\n",
    "            MercuryDF=ObtainPlanetInfo(planet)\n",
    "            MercuryDF.to_csv('MercuryLast50yr.csv', index=False)\n",
    "        elif planet==\"Venus\":\n",
    "            VenusDF=ObtainPlanetInfo(planet)\n",
    "            VenusDF.to_csv('VenusLast50yr.csv', index=False)\n",
    "        elif planet==\"Earth\":\n",
    "            EarthDF=ObtainPlanetInfo(planet)\n",
    "            EarthDF.to_csv('EarthLast50yr.csv', index=False)\n",
    "        elif planet==\"Mars\":\n",
    "            MarsDF=ObtainPlanetInfo(planet)\n",
    "            MarsDF.to_csv('MarsLast50yr.csv', index=False)\n",
    "        else:\n",
    "            print(f'Unexpected request obtained/n Error Code: NasaSave{planet}DFLast100y')\n",
    "except:\n",
    "        print(f'Unexpected error in obtaining data. Error Code: NasaGetPlanets')\n",
    "        pass"
   ]
  },
  {
   "cell_type": "code",
   "execution_count": null,
   "metadata": {},
   "outputs": [],
   "source": []
  }
 ],
 "metadata": {
  "kernelspec": {
   "display_name": "Python [conda env:PythonData]",
   "language": "python",
   "name": "conda-env-PythonData-py"
  },
  "language_info": {
   "codemirror_mode": {
    "name": "ipython",
    "version": 3
   },
   "file_extension": ".py",
   "mimetype": "text/x-python",
   "name": "python",
   "nbconvert_exporter": "python",
   "pygments_lexer": "ipython3",
   "version": "3.6.10"
  }
 },
 "nbformat": 4,
 "nbformat_minor": 4
}
