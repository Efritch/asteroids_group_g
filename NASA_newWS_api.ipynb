{
 "cells": [
  {
   "attachments": {},
   "cell_type": "markdown",
   "metadata": {},
   "source": [
    "# NASA z- NeoWs\n",
    "\n",
    "goal: extracing data from NASA Neows api\n",
    "\n",
    "Keys and search terms bassed on Asterank API (not confirmed 10/24)\n",
    "    \n",
    "Name of asteroid: key:\"full_name\" (example: \"full_name\": \"138911 (2001 AE2)\")\n",
    "in json?\n",
    "\n",
    "class SMASSII (Bus Class): key = \"spec\" (example:\"spec\": \"T\") ?\n",
    "     SMASSII has 13 main catogories wich can have more subcatogories\n",
    "     for more info: https://en.wikipedia.org/wiki/Asteroid_spectral_types\n",
    "     in json?    \n",
    "\n",
    "location data: key= \"a\" (example: \"a\": 1.349610289614184)\n",
    "        a is astronimical unit\n",
    "        in json?\n",
    "Compistion data ???????????\n",
    "\n",
    "Class type: key=  \"class\" (exampaple: \"class\": \"AMO\")\n",
    "in json?\n",
    "\n",
    "### Class types:\n",
    "AMO: Amor asteroids -- whose orbits approach but do not cross Earth orbit, and whose orbits are further from the Sun than Earth's orbit. Many have orbits which reside entirely between Earth and Mars. Some of these are economically attractive in the near term.\n",
    "     \n",
    "APO: Apollo asteroids -- whose orbits cross Earth's orbit. Apollo asteroids spend most of their time outside Earth orbit.      Many of these are economically attractive in the near term. Technically, they have wider orbits than Earth.\n",
    "     \n",
    "APO: (PHAAten asteroids -- whose orbits also cross Earth's orbit, but unlike Apollos, Atens spend most of their time        inside Earth orbit. A large percentage of known Atens are economically attractive in the near term."
   ]
  },
  {
   "cell_type": "code",
   "execution_count": 3,
   "metadata": {},
   "outputs": [],
   "source": [
    " # Dependencies\n",
    "import matplotlib.pyplot as plt\n",
    "import requests\n",
    "from scipy import stats\n",
    "import pandas as pd\n",
    "#from secrets import api_key"
   ]
  },
  {
   "cell_type": "markdown",
   "metadata": {},
   "source": [
    "# Refrence call from web site"
   ]
  },
  {
   "cell_type": "code",
   "execution_count": 4,
   "metadata": {},
   "outputs": [],
   "source": [
    "# Example of call\n",
    "# \n",
    "# Retrieve a list of Asteroids based on their closest approach date to Earth. \n",
    "# GET https://api.nasa.gov/neo/rest/v1/feed?start_date=START_DATE&end_date=END_DATE&api_key=API_KEY"
   ]
  },
  {
   "cell_type": "code",
   "execution_count": null,
   "metadata": {},
   "outputs": [],
   "source": [
    "# Example of call\n",
    "# Browse the overall Asteroid data-set \n",
    "# GET https://api.nasa.gov/neo/rest/v1/neo/browse/"
   ]
  },
  {
   "cell_type": "code",
   "execution_count": 5,
   "metadata": {},
   "outputs": [],
   "source": [
    "######################################\n",
    "# Base query\n",
    "\n",
    "#https://api.nasa.gov/neo/rest/v1/feed?start_date=2015-09-07&end_date=2015-09-08&api_key=DEMO_KEY"
   ]
  },
  {
   "cell_type": "markdown",
   "metadata": {},
   "source": [
    "# Refrence on how to set up a call with parameters"
   ]
  },
  {
   "cell_type": "code",
   "execution_count": null,
   "metadata": {},
   "outputs": [],
   "source": [
    "# set up base url example\n",
    "\n",
    "#asterank_base_url = \"https://www.asterank.com/api/asterank\"\n",
    "#asterank_base_url"
   ]
  },
  {
   "cell_type": "code",
   "execution_count": 6,
   "metadata": {},
   "outputs": [],
   "source": [
    "# example of how get a call with built in paramters\n",
    "# stich up the api call\n",
    "\n",
    "#test = asterank_base_url\n",
    "#params = {\n",
    "#    'query': qx,\n",
    "#    'limit': limit\n",
    "#}\n"
   ]
  },
  {
   "cell_type": "code",
   "execution_count": 8,
   "metadata": {},
   "outputs": [],
   "source": [
    "# example of how get a call with built in paramters\n",
    "#test_response = requests.get(test, params=params)\n",
    "#print(test_response.url)\n",
    "#print(test_response.json())"
   ]
  },
  {
   "cell_type": "markdown",
   "metadata": {},
   "source": [
    "## Build call for NASA site"
   ]
  },
  {
   "cell_type": "code",
   "execution_count": 2,
   "metadata": {},
   "outputs": [],
   "source": [
    "#MADE up number delete after secrets gets made\n",
    "Nasa_api_PH = 22222"
   ]
  },
  {
   "cell_type": "code",
   "execution_count": 4,
   "metadata": {},
   "outputs": [],
   "source": [
    "nasa_base_url = \"https://api.nasa.gov/neo/rest/v1/feed\""
   ]
  },
  {
   "cell_type": "code",
   "execution_count": 14,
   "metadata": {},
   "outputs": [],
   "source": [
    "qx = str(\"start_date=START_DATE&end_date=END_DATE\")\n",
    "API = Nasa_api_PH"
   ]
  },
  {
   "cell_type": "code",
   "execution_count": 15,
   "metadata": {},
   "outputs": [],
   "source": [
    "# alternative call approach\n",
    "params = {\n",
    "    'query': qx,\n",
    "}"
   ]
  },
  {
   "cell_type": "code",
   "execution_count": 17,
   "metadata": {},
   "outputs": [
    {
     "ename": "TypeError",
     "evalue": "must be str, not int",
     "output_type": "error",
     "traceback": [
      "\u001b[1;31m---------------------------------------------------------------------------\u001b[0m",
      "\u001b[1;31mTypeError\u001b[0m                                 Traceback (most recent call last)",
      "\u001b[1;32m<ipython-input-17-1788823c19a6>\u001b[0m in \u001b[0;36m<module>\u001b[1;34m\u001b[0m\n\u001b[1;32m----> 1\u001b[1;33m \u001b[0mrequest1\u001b[0m \u001b[1;33m=\u001b[0m \u001b[0mnasa_base_url\u001b[0m \u001b[1;33m+\u001b[0m \u001b[1;34m\"?\"\u001b[0m \u001b[1;33m+\u001b[0m \u001b[0mqx\u001b[0m \u001b[1;33m+\u001b[0m \u001b[1;34m\"&api_key=\"\u001b[0m \u001b[1;33m+\u001b[0m \u001b[0mAPI\u001b[0m\u001b[1;33m\u001b[0m\u001b[1;33m\u001b[0m\u001b[0m\n\u001b[0m",
      "\u001b[1;31mTypeError\u001b[0m: must be str, not int"
     ]
    }
   ],
   "source": [
    "request1 = nasa_base_url + \"?\" + qx + \"&api_key=\" + API"
   ]
  },
  {
   "cell_type": "code",
   "execution_count": null,
   "metadata": {},
   "outputs": [],
   "source": []
  },
  {
   "cell_type": "code",
   "execution_count": null,
   "metadata": {},
   "outputs": [],
   "source": []
  }
 ],
 "metadata": {
  "kernelspec": {
   "display_name": "Python [conda env:PythonData]",
   "language": "python",
   "name": "conda-env-PythonData-py"
  },
  "language_info": {
   "codemirror_mode": {
    "name": "ipython",
    "version": 3
   },
   "file_extension": ".py",
   "mimetype": "text/x-python",
   "name": "python",
   "nbconvert_exporter": "python",
   "pygments_lexer": "ipython3",
   "version": "3.6.10"
  }
 },
 "nbformat": 4,
 "nbformat_minor": 4
}
