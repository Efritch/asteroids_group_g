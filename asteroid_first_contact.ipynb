{
 "cells": [
  {
   "cell_type": "markdown",
   "metadata": {},
   "source": [
    "# Asterroid test file"
   ]
  },
  {
   "cell_type": "code",
   "execution_count": 1,
   "metadata": {},
   "outputs": [],
   "source": [
    " # Dependencies\n",
    "import matplotlib.pyplot as plt\n",
    "import requests\n",
    "from scipy import stats\n",
    "import pandas as pd\n",
    "#from secrets import api_key\n",
    "import json"
   ]
  },
  {
   "cell_type": "markdown",
   "metadata": {},
   "source": [
    "Goal: get data from astrank api"
   ]
  },
  {
   "cell_type": "code",
   "execution_count": 2,
   "metadata": {},
   "outputs": [],
   "source": [
    "#Base url for Asterank\n",
    "\n",
    "#base_url = \"http://asterank.com/api/asterank?query={query}&limit={limit}\"\n",
    "\n",
    "# example of basic query from site\n",
    "#        /api/asterank?query={\"e\":{\"$lt\":0.1},\"i\":{\"$lt\":4},\"a\":{\"$lt\":1.5}}&limit=1"
   ]
  },
  {
   "cell_type": "code",
   "execution_count": 3,
   "metadata": {},
   "outputs": [
    {
     "name": "stdout",
     "output_type": "stream",
     "text": [
      "{'e': {'$lt': 0.1}, 'i': {'$lt': 4}, 'a': {'$lt': 1.5}}\n"
     ]
    }
   ],
   "source": [
    "#build query bassed on web site api\n",
    "qx = str({\"e\":{\"$lt\":0.1},\"i\":{\"$lt\":4},\"a\":{\"$lt\":1.5}})\n",
    "print(qx)"
   ]
  },
  {
   "cell_type": "code",
   "execution_count": null,
   "metadata": {},
   "outputs": [],
   "source": []
  },
  {
   "cell_type": "code",
   "execution_count": 4,
   "metadata": {},
   "outputs": [],
   "source": [
    "# limit may be more of a count than an asteroid?\n",
    "numb_asteroids= 1"
   ]
  },
  {
   "cell_type": "code",
   "execution_count": 5,
   "metadata": {},
   "outputs": [
    {
     "name": "stdout",
     "output_type": "stream",
     "text": [
      "&limit=1\n"
     ]
    }
   ],
   "source": [
    "# asign value t limit\n",
    "\n",
    "limit = str(\"&limit=1\")\n",
    "print(limit)"
   ]
  },
  {
   "cell_type": "code",
   "execution_count": 6,
   "metadata": {},
   "outputs": [
    {
     "data": {
      "text/plain": [
       "'http://www.asterank.com/api/asterank?'"
      ]
     },
     "execution_count": 6,
     "metadata": {},
     "output_type": "execute_result"
    }
   ],
   "source": [
    "# set up base url\n",
    "\n",
    "asterank_base_url = \"http://www.asterank.com/api/asterank?\"\n",
    "asterank_base_url"
   ]
  },
  {
   "cell_type": "code",
   "execution_count": 7,
   "metadata": {},
   "outputs": [
    {
     "data": {
      "text/plain": [
       "\"http://www.asterank.com/api/asterank?&q={'e': {'$lt': 0.1}, 'i': {'$lt': 4}, 'a': {'$lt': 1.5}}&limit=1\""
      ]
     },
     "execution_count": 7,
     "metadata": {},
     "output_type": "execute_result"
    }
   ],
   "source": [
    "# test does not work.\n",
    "# stich up the api call\n",
    "\n",
    "test = asterank_base_url + \"&q=\" + qx + \"&limit=\"+ str(numb_asteroids)\n",
    "test = str(test)\n",
    "test"
   ]
  },
  {
   "cell_type": "code",
   "execution_count": 8,
   "metadata": {},
   "outputs": [],
   "source": [
    "#Test 2 works\n",
    "####################################\n",
    "####################################\n",
    "# dont understand all the 2's\n",
    "\n",
    "test2= str(\"https://www.asterank.com/api/asterank?query={%22e%22:{%22$lt%22:0.1},%22i%22:{%22$lt%22:4},%22a%22:{%22$lt%22:1.5}}&limit=1\")"
   ]
  },
  {
   "cell_type": "code",
   "execution_count": 9,
   "metadata": {},
   "outputs": [],
   "source": [
    "# example of generic api call from site\n",
    "# asterank_api = \"http://htps/www.asterank.com/api/asterank?query={query}&limit={limit}?/json\""
   ]
  },
  {
   "cell_type": "code",
   "execution_count": 10,
   "metadata": {},
   "outputs": [],
   "source": [
    "# does not work\n",
    "# atemp to build off the web site api call\n",
    "# issue with casting a string?\n",
    "\n",
    "#asterank_api = str(http://www.asterank.com/api/asterank?query={\"e\":{\"$lt\":0.1},\"i\":{\"$lt\":4},\"a\":{\"$lt\":1.5}}&limit=1)"
   ]
  },
  {
   "cell_type": "code",
   "execution_count": 11,
   "metadata": {},
   "outputs": [
    {
     "name": "stdout",
     "output_type": "stream",
     "text": [
      "{\n",
      "    \"error\": \"bad request\"\n",
      "}\n"
     ]
    }
   ],
   "source": [
    "#make request and print url\n",
    "\n",
    "\n",
    "name_address = requests.get(test).json()\n",
    "#print(name_address)\n",
    "\n",
    "\n",
    "\n",
    "print(json.dumps(name_address, indent=4, sort_keys=True))\n",
    "\n",
    "\n",
    "########     print the name_address url, avoid doing for public github repos in order to avoid exposing key\n",
    "#print(name_address.url)\n",
    " #########   # convert to json\n",
    "#asteroids = name_address.json()\n",
    "#print(json.dumps(name_address, indent=4, sort_keys=True))"
   ]
  },
  {
   "cell_type": "code",
   "execution_count": null,
   "metadata": {},
   "outputs": [],
   "source": [
    "name = []\n",
    "\n",
    "response= requests.get(asterank_api_url).json\n",
    "name.append(response[\"e\"])\n",
    "name"
   ]
  },
  {
   "cell_type": "code",
   "execution_count": null,
   "metadata": {},
   "outputs": [],
   "source": []
  }
 ],
 "metadata": {
  "kernelspec": {
   "display_name": "Python [conda env:PythonData]",
   "language": "python",
   "name": "conda-env-PythonData-py"
  },
  "language_info": {
   "codemirror_mode": {
    "name": "ipython",
    "version": 3
   },
   "file_extension": ".py",
   "mimetype": "text/x-python",
   "name": "python",
   "nbconvert_exporter": "python",
   "pygments_lexer": "ipython3",
   "version": "3.6.10"
  }
 },
 "nbformat": 4,
 "nbformat_minor": 4
}
