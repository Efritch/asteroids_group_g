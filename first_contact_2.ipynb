{
 "cells": [
  {
   "cell_type": "markdown",
   "metadata": {},
   "source": [
    "# Asterank API "
   ]
  },
  {
   "cell_type": "code",
   "execution_count": 1,
   "metadata": {},
   "outputs": [],
   "source": [
    " # Dependencies\n",
    "import matplotlib.pyplot as plt\n",
    "import requests\n",
    "from scipy import stats\n",
    "import pandas as pd\n",
    "#from secrets import api_key\n",
    "import json\n",
    "import urllib"
   ]
  },
  {
   "attachments": {},
   "cell_type": "markdown",
   "metadata": {},
   "source": [
    "# goal: extracing data from \n",
    "\n",
    "Goal 1: Get data from api. \n",
    "\n",
    "Keys identifed so far on api:\n",
    "Name of asteroid: key:\"full_name\" (example: \"full_name\": \"138911 (2001 AE2)\")\n",
    "\n",
    "class SMASSII (Bus Class): key = \"spec\" (example:\"spec\": \"T\") ?\n",
    "     SMASSII has 13 main catogories wich can have more subcatogories\n",
    "     for more info: https://en.wikipedia.org/wiki/Asteroid_spectral_types\n",
    "    \n",
    "location data: key= \"a\" (example: \"a\": 1.349610289614184)\n",
    "        a is astronimical unit\n",
    "\n",
    "Compistion data ???????????\n",
    "\n",
    "Value estimates: key = value:\"price\" (example: \"price\": 132253.45366384918)\n",
    "    Value estimates are based on the mass of a given asteroid and its spectral type. Asteroid \n",
    "    spectra is used to infer  composition, which, in conjunction with current market prices, \n",
    "    determine potential value.\n",
    "\n",
    "Profit estimats: key = \"profit\" (example: \"profit\": 28914.585070637186)\n",
    "    Profit and ROI calculations are a combination of accessibility and value. The formula strikes a \n",
    "    balance between high value and high distance and energy expenditure. Mining costs are factored in as a flat percentage of       potential value\n",
    "\n",
    "\n",
    "Class type: key=  \"class\" (exampaple: \"class\": \"AMO\")\n",
    "\n",
    "### Class types:\n",
    "AMO: Amor asteroids -- whose orbits approach but do not cross Earth orbit, and whose orbits are further from the Sun than Earth's orbit. Many have orbits which reside entirely between Earth and Mars. Some of these are economically attractive in the near term.\n",
    "     \n",
    "APO: Apollo asteroids -- whose orbits cross Earth's orbit. Apollo asteroids spend most of their time outside Earth orbit.      Many of these are economically attractive in the near term. Technically, they have wider orbits than Earth.\n",
    "     \n",
    "APO: (PHAAten asteroids -- whose orbits also cross Earth's orbit, but unlike Apollos, Atens spend most of their time        inside Earth orbit. A large percentage of known Atens are economically attractive in the near term."
   ]
  },
  {
   "cell_type": "markdown",
   "metadata": {},
   "source": [
    "Goal: get data from astrank api"
   ]
  },
  {
   "cell_type": "code",
   "execution_count": 2,
   "metadata": {},
   "outputs": [],
   "source": [
    "#Base url for Asterank\n",
    "\n",
    "#base_url = \"http://asterank.com/api/asterank?query={query}&limit={limit}\"\n",
    "\n",
    "# example of basic query from site\n",
    "#        /api/asterank?query={\"e\":{\"$lt\":0.1},\"i\":{\"$lt\":4},\"a\":{\"$lt\":1.5}}&limit=1"
   ]
  },
  {
   "cell_type": "code",
   "execution_count": 3,
   "metadata": {},
   "outputs": [],
   "source": [
    "# consider delting\n",
    "#build query bassed on web site api\n",
    "#qx = str({\"e\":{\"$lt\":0.1},\"i\":{\"$lt\":4},\"a\":{\"$lt\":1.5}})\n",
    "#print(qx)"
   ]
  },
  {
   "cell_type": "code",
   "execution_count": 4,
   "metadata": {},
   "outputs": [],
   "source": [
    "qx = str({\"e\":{\"$lt\":0.1},\"i\":{\"$lt\":4},\"a\":{\"$lt\":1.5}}).replace(' ', '')\n",
    "#urllib.parse.quote(qx)\n",
    "#urllib.parse.quote_plus(qx)"
   ]
  },
  {
   "cell_type": "code",
   "execution_count": null,
   "metadata": {},
   "outputs": [],
   "source": []
  },
  {
   "cell_type": "code",
   "execution_count": 5,
   "metadata": {},
   "outputs": [
    {
     "name": "stdout",
     "output_type": "stream",
     "text": [
      "1\n"
     ]
    }
   ],
   "source": [
    "# asign value t limit\n",
    "\n",
    "limit = 1\n",
    "print(limit)"
   ]
  },
  {
   "cell_type": "code",
   "execution_count": 6,
   "metadata": {},
   "outputs": [
    {
     "data": {
      "text/plain": [
       "'https://www.asterank.com/api/asterank'"
      ]
     },
     "execution_count": 6,
     "metadata": {},
     "output_type": "execute_result"
    }
   ],
   "source": [
    "# set up base url\n",
    "\n",
    "asterank_base_url = \"https://www.asterank.com/api/asterank\"\n",
    "asterank_base_url"
   ]
  },
  {
   "cell_type": "code",
   "execution_count": 7,
   "metadata": {},
   "outputs": [],
   "source": [
    "# test does not work.\n",
    "# stich up the api call\n",
    "\n",
    "test = asterank_base_url\n",
    "params = {\n",
    "    'query': qx,\n",
    "    'limit': limit\n",
    "}\n"
   ]
  },
  {
   "cell_type": "code",
   "execution_count": 8,
   "metadata": {},
   "outputs": [
    {
     "data": {
      "text/plain": [
       "{'query': \"{'e':{'$lt':0.1},'i':{'$lt':4},'a':{'$lt':1.5}}\", 'limit': 1}"
      ]
     },
     "execution_count": 8,
     "metadata": {},
     "output_type": "execute_result"
    }
   ],
   "source": [
    "params"
   ]
  },
  {
   "cell_type": "code",
   "execution_count": 26,
   "metadata": {},
   "outputs": [
    {
     "name": "stdout",
     "output_type": "stream",
     "text": [
      "https://www.asterank.com/api/asterank\n"
     ]
    }
   ],
   "source": [
    "print(test)"
   ]
  },
  {
   "cell_type": "code",
   "execution_count": 9,
   "metadata": {},
   "outputs": [
    {
     "data": {
      "text/plain": [
       "'https://www.asterank.com/api/asterank?query={%22e%22:{%22$lt%22:0.1},%22i%22:{%22$lt%22:4},%22a%22:{%22$lt%22:1.5}}&limit=1'"
      ]
     },
     "execution_count": 9,
     "metadata": {},
     "output_type": "execute_result"
    }
   ],
   "source": [
    "#Test 2 works\n",
    "####################################\n",
    "####################################\n",
    "# dont understand all the 2's\n",
    "\n",
    "test2= str(\"https://www.asterank.com/api/asterank?query={%22e%22:{%22$lt%22:0.1},%22i%22:{%22$lt%22:4},%22a%22:{%22$lt%22:1.5}}&limit=1\")\n",
    "test2"
   ]
  },
  {
   "cell_type": "code",
   "execution_count": 12,
   "metadata": {},
   "outputs": [
    {
     "data": {
      "text/plain": [
       "'https://www.asterank.com/api/asterank?query={}}&limit=1'"
      ]
     },
     "execution_count": 12,
     "metadata": {},
     "output_type": "execute_result"
    }
   ],
   "source": [
    "# Test 3 does not work\n",
    "test3= str(\"https://www.asterank.com/api/asterank?query={}}&limit=1\")\n",
    "test3\n"
   ]
  },
  {
   "cell_type": "code",
   "execution_count": 21,
   "metadata": {},
   "outputs": [],
   "source": [
    "#      testing test\n",
    "#http://www.asterank.com/api/asterank?query={'e':{'$lt':0.1},'i':{'$lt':4},'a':{'$lt':1.5}}&limit=1"
   ]
  },
  {
   "cell_type": "code",
   "execution_count": 14,
   "metadata": {},
   "outputs": [
    {
     "name": "stdout",
     "output_type": "stream",
     "text": [
      "https://www.asterank.com/api/asterank?query=%7B%27e%27%3A%7B%27%24lt%27%3A0.1%7D%2C%27i%27%3A%7B%27%24lt%27%3A4%7D%2C%27a%27%3A%7B%27%24lt%27%3A1.5%7D%7D&limit=1\n",
      "{'error': 'bad request'}\n"
     ]
    }
   ],
   "source": [
    "test_response = requests.get(test, params=params)\n",
    "print(test_response.url)\n",
    "print(test_response.json())"
   ]
  },
  {
   "cell_type": "code",
   "execution_count": 15,
   "metadata": {},
   "outputs": [],
   "source": [
    "#dir(test_response)"
   ]
  },
  {
   "cell_type": "code",
   "execution_count": 16,
   "metadata": {},
   "outputs": [
    {
     "name": "stdout",
     "output_type": "stream",
     "text": [
      "https://www.asterank.com/api/asterank?query=%7B%22e%22:%7B%22$lt%22:0.1%7D,%22i%22:%7B%22$lt%22:4%7D,%22a%22:%7B%22$lt%22:1.5%7D%7D&limit=1\n"
     ]
    }
   ],
   "source": [
    "test_response2 = requests.get(test2)\n",
    "print(test_response2.url)"
   ]
  },
  {
   "cell_type": "code",
   "execution_count": null,
   "metadata": {},
   "outputs": [],
   "source": []
  },
  {
   "cell_type": "code",
   "execution_count": 17,
   "metadata": {},
   "outputs": [],
   "source": [
    "# example of generic api call from site\n",
    "# asterank_api = \"http://htps/www.asterank.com/api/asterank?query={query}&limit={limit}?/json\""
   ]
  },
  {
   "cell_type": "code",
   "execution_count": 18,
   "metadata": {},
   "outputs": [],
   "source": [
    "# does not work\n",
    "# atemp to build off the web site api call\n",
    "# issue with casting a string?\n",
    "\n",
    "#asterank_api = str(http://www.asterank.com/api/asterank?query={\"e\":{\"$lt\":0.1},\"i\":{\"$lt\":4},\"a\":{\"$lt\":1.5}}&limit=1)"
   ]
  },
  {
   "cell_type": "code",
   "execution_count": 20,
   "metadata": {},
   "outputs": [
    {
     "name": "stdout",
     "output_type": "stream",
     "text": [
      "[\n",
      "    {\n",
      "        \"A1\": \"\",\n",
      "        \"A2\": \"\",\n",
      "        \"A3\": \"\",\n",
      "        \"BV\": \"\",\n",
      "        \"DT\": \"\",\n",
      "        \"G\": \"\",\n",
      "        \"GM\": \"\",\n",
      "        \"H\": 19.2,\n",
      "        \"H_sigma\": \"\",\n",
      "        \"IR\": \"\",\n",
      "        \"K1\": \"\",\n",
      "        \"K2\": \"\",\n",
      "        \"M1\": \"\",\n",
      "        \"M2\": \"\",\n",
      "        \"PC\": \"\",\n",
      "        \"UB\": \"\",\n",
      "        \"a\": 1.349610289614184,\n",
      "        \"ad\": 1.459803525972257,\n",
      "        \"albedo\": \"\",\n",
      "        \"class\": \"AMO\",\n",
      "        \"closeness\": 4098.1524578206245,\n",
      "        \"condition_code\": 0.0,\n",
      "        \"data_arc\": 12168.0,\n",
      "        \"diameter\": \"\",\n",
      "        \"diameter_sigma\": \"\",\n",
      "        \"dv\": 5.484833,\n",
      "        \"e\": 0.08164818926326788,\n",
      "        \"epoch\": 2458600.5,\n",
      "        \"epoch_cal\": 20190427.0,\n",
      "        \"epoch_mjd\": 58600.0,\n",
      "        \"equinox\": \"J2000\",\n",
      "        \"est_diameter\": 0.4959973445799733,\n",
      "        \"extent\": \"\",\n",
      "        \"first_obs\": \"1984-08-02\",\n",
      "        \"full_name\": \"138911 (2001 AE2)\",\n",
      "        \"i\": 1.661650105052165,\n",
      "        \"id\": \"a0138911\",\n",
      "        \"last_obs\": \"2017-11-25\",\n",
      "        \"ma\": 142.3170990761226,\n",
      "        \"moid\": 0.233602,\n",
      "        \"moid_jup\": 3.50174,\n",
      "        \"moid_ld\": 90.91089034,\n",
      "        \"n\": 0.6286247889552345,\n",
      "        \"n_del_obs_used\": \"\",\n",
      "        \"n_dop_obs_used\": \"\",\n",
      "        \"n_obs_used\": 567.0,\n",
      "        \"name\": \"\",\n",
      "        \"neo\": \"Y\",\n",
      "        \"om\": 171.4652326699006,\n",
      "        \"orbit_id\": 129.0,\n",
      "        \"pdes\": 138911.0,\n",
      "        \"per\": 572.6786571657711,\n",
      "        \"per_y\": 1.56790871229506,\n",
      "        \"pha\": \"N\",\n",
      "        \"prefix\": \"\",\n",
      "        \"price\": 132253.45366384918,\n",
      "        \"producer\": \"Otto Matic\",\n",
      "        \"profit\": 28914.585070637186,\n",
      "        \"prov_des\": \"2001 AE2\",\n",
      "        \"q\": 1.239417053256112,\n",
      "        \"rms\": 0.54503,\n",
      "        \"rot_per\": 15.88,\n",
      "        \"saved\": -66236938043.31114,\n",
      "        \"score\": 2.645069073276984e-07,\n",
      "        \"sigma_a\": 2.0992e-09,\n",
      "        \"sigma_ad\": 2.2706e-09,\n",
      "        \"sigma_e\": 3.0757e-08,\n",
      "        \"sigma_i\": 3.1569e-06,\n",
      "        \"sigma_ma\": 2.5998e-05,\n",
      "        \"sigma_n\": 1.4667e-09,\n",
      "        \"sigma_om\": 9.6768e-05,\n",
      "        \"sigma_per\": 1.3361e-06,\n",
      "        \"sigma_q\": 4.1207e-08,\n",
      "        \"sigma_tp\": 4.1004e-05,\n",
      "        \"sigma_w\": 9.9056e-05,\n",
      "        \"spec\": \"T\",\n",
      "        \"spec_B\": \"T\",\n",
      "        \"spec_T\": \"\",\n",
      "        \"spkid\": 2138911.0,\n",
      "        \"t_jup\": 4.87,\n",
      "        \"tp\": 2458374.105652248,\n",
      "        \"tp_cal\": 20180912.6056522,\n",
      "        \"two_body\": \"\",\n",
      "        \"w\": 43.07150893323625\n",
      "    }\n",
      "]\n"
     ]
    }
   ],
   "source": [
    "#make request and print url\n",
    "\n",
    "\n",
    "name_address = requests.get(test2).json()\n",
    "#print(name_address)\n",
    "\n",
    "#print(name_address.url)\n",
    "\n",
    "#print(name_address.content)\n",
    "\n",
    "print(json.dumps(name_address, indent=4, sort_keys=True))\n",
    "\n",
    "\n",
    "########     print the name_address url, avoid doing for public github repos in order to avoid exposing key\n",
    "#print(name_address.url)\n",
    " #########   # convert to json\n",
    "#asteroids = name_address.json()\n",
    "#print(json.dumps(name_address, indent=4, sort_keys=True))"
   ]
  },
  {
   "cell_type": "code",
   "execution_count": null,
   "metadata": {},
   "outputs": [],
   "source": [
    "name = []\n",
    "\n",
    "response= requests.get(asterank_api_url).json\n",
    "name.append(response[\"e\"])\n",
    "name"
   ]
  },
  {
   "cell_type": "code",
   "execution_count": null,
   "metadata": {},
   "outputs": [],
   "source": []
  },
  {
   "cell_type": "code",
   "execution_count": null,
   "metadata": {},
   "outputs": [],
   "source": []
  }
 ],
 "metadata": {
  "kernelspec": {
   "display_name": "Python [conda env:PythonData]",
   "language": "python",
   "name": "conda-env-PythonData-py"
  },
  "language_info": {
   "codemirror_mode": {
    "name": "ipython",
    "version": 3
   },
   "file_extension": ".py",
   "mimetype": "text/x-python",
   "name": "python",
   "nbconvert_exporter": "python",
   "pygments_lexer": "ipython3",
   "version": "3.6.10"
  }
 },
 "nbformat": 4,
 "nbformat_minor": 4
}
