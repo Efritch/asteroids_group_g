{
 "cells": [
  {
   "cell_type": "code",
   "execution_count": null,
   "metadata": {},
   "outputs": [],
   "source": [
    "import requests\n",
    "#from secrets import api_key\n",
    "import pandas as pd\n",
    "from datetime import datetime, timedelta\n",
    "import json\n",
    "\n",
    "#api_key = \"DEMO_KEY\"\n",
    "api_key = \"Qz6l5aWgbVoEY6HwpErhXrSm8pfv9EdO6S2siLZK\""
   ]
  },
  {
   "cell_type": "code",
   "execution_count": null,
   "metadata": {
    "scrolled": true
   },
   "outputs": [],
   "source": [
    "# Function that will make the API calls sort all necessary data into lists.\n",
    "def asteroids():\n",
    "    base_url = \"https://api.nasa.gov/neo/rest/v1/feed?\"\n",
    "    \n",
    "    request_url = f\"{base_url}start_date={start_date}&end_date={end_date}&api_key={api_key}\"\n",
    "    \n",
    "    get_data = requests.get(request_url)\n",
    "    \n",
    "    asteroid_data = get_data.json()\n",
    "    \n",
    "    num_of_asteroids = []\n",
    "    \n",
    "    \n",
    "\n",
    "    resp = asteroid_data[\"near_earth_objects\"]\n",
    "    list_of_dates = []\n",
    "\n",
    "    for val in range(7):\n",
    "        num = list(resp.keys())[val]\n",
    "        list_of_dates.append(num)\n",
    "    \n",
    "    #print(list_of_dates)\n",
    "    \n",
    "    asteroid_id = []\n",
    "    asteroid_name = []\n",
    "    asteroid_diameter_min = []\n",
    "    asteroid_diameter_max = []\n",
    "    potentially_hazardous = []\n",
    "    close_approach_distance = []\n",
    "    date_of_close_approach = []\n",
    "        \n",
    "    for date in list_of_dates:\n",
    "        len_of_date = len(resp[date])\n",
    "        for item in range(len_of_date):\n",
    "            asteroid_id.append(resp[date][item][\"id\"])\n",
    "            asteroid_name.append(resp[date][item][\"name\"])\n",
    "            asteroid_diameter_min.append(resp[date][item][\"estimated_diameter\"][\"meters\"][\"estimated_diameter_min\"])\n",
    "            asteroid_diameter_max.append(resp[date][item][\"estimated_diameter\"][\"meters\"][\"estimated_diameter_max\"])\n",
    "            potentially_hazardous.append(resp[date][item][\"is_potentially_hazardous_asteroid\"])\n",
    "#            for detail in range(len_approach_detail):\n",
    "#                close_approach_distance.append(resp[date][item][detail][\"miss_distance\"][\"kilometers\"])\n",
    "#                date_of_close_approach.append(resp[date][item][detail][\"close_approach_date\"])      \n",
    "    print(list_of_dates)\n",
    "#    print(asteroid_id)\n",
    "#    print(asteroid_name)\n",
    "#    print(asteroid_diameter_min)\n",
    "#    print(asteroid_diameter_max)\n",
    "#    print(potentially_hazardous)\n",
    "#    print(date_of_close_approach)"
   ]
  },
  {
   "cell_type": "code",
   "execution_count": null,
   "metadata": {},
   "outputs": [],
   "source": [
    "# Loop to pull asteroid data for multiple weeks\n",
    "\n",
    "start_date = \"2005-01-01\"\n",
    "end_date = \"2005-01-07\"\n",
    "#terminate_date = \"2005-01-15\"\n",
    "#weeks = \"825\"\n",
    "\n",
    "for x in range(825):\n",
    "    asteroids()\n",
    "    mod_start_date = datetime.strptime(start_date, \"%Y-%m-%d\").date()\n",
    "    new_start_date = mod_start_date + timedelta(days=7)\n",
    "    datetime.strftime(new_start_date, \"%Y-%m-%d\")\n",
    "    mod_end_date = datetime.strptime(end_date, \"%Y-%m-%d\").date()\n",
    "    new_end_date = mod_end_date + timedelta(days=7)\n",
    "    datetime.strftime(new_end_date, \"%Y-%m-%d\")\n",
    "    start_date = str(new_start_date)\n",
    "    end_date = str(new_end_date)\n"
   ]
  },
  {
   "cell_type": "code",
   "execution_count": null,
   "metadata": {},
   "outputs": [],
   "source": [
    "# Creating a function to parse the data from the response\n",
    "\n",
    "    asteroid_df = pd.DataFrame({\n",
    "#        'Asteroid ID': asteroid_id,\n",
    "        ' Asteroid Name': asteroid_name,\n",
    "        'Min Diameter': asteroid_diameter_min,\n",
    "        'Max Diameter': asteroid_diameter_max,\n",
    "        'Hazardous to Earth': potentially_hazardous,\n",
    "        'Close Approach Dist (km)': close_approach_distance,\n",
    "        'Speed at Approach': approach_speed\n",
    "        })\n",
    "\n",
    "    print(asteroid_df)"
   ]
  },
  {
   "cell_type": "code",
   "execution_count": null,
   "metadata": {},
   "outputs": [],
   "source": []
  },
  {
   "cell_type": "code",
   "execution_count": null,
   "metadata": {},
   "outputs": [],
   "source": [
    "\n",
    "\n"
   ]
  },
  {
   "cell_type": "code",
   "execution_count": null,
   "metadata": {},
   "outputs": [],
   "source": []
  }
 ],
 "metadata": {
  "kernelspec": {
   "display_name": "Python [conda env:PythonData]",
   "language": "python",
   "name": "conda-env-PythonData-py"
  },
  "language_info": {
   "codemirror_mode": {
    "name": "ipython",
    "version": 3
   },
   "file_extension": ".py",
   "mimetype": "text/x-python",
   "name": "python",
   "nbconvert_exporter": "python",
   "pygments_lexer": "ipython3",
   "version": "3.6.10"
  }
 },
 "nbformat": 4,
 "nbformat_minor": 4
}
