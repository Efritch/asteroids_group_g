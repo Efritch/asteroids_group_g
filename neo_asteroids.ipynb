{
 "cells": [
  {
   "cell_type": "code",
   "execution_count": 1,
   "metadata": {},
   "outputs": [
    {
     "ename": "ImportError",
     "evalue": "cannot import name 'api_key'",
     "output_type": "error",
     "traceback": [
      "\u001b[1;31m---------------------------------------------------------------------------\u001b[0m",
      "\u001b[1;31mImportError\u001b[0m                               Traceback (most recent call last)",
      "\u001b[1;32m<ipython-input-1-1aaa5201092f>\u001b[0m in \u001b[0;36m<module>\u001b[1;34m\u001b[0m\n\u001b[0;32m      1\u001b[0m \u001b[1;32mimport\u001b[0m \u001b[0mrequests\u001b[0m\u001b[1;33m\u001b[0m\u001b[1;33m\u001b[0m\u001b[0m\n\u001b[1;32m----> 2\u001b[1;33m \u001b[1;32mfrom\u001b[0m \u001b[0msecrets\u001b[0m \u001b[1;32mimport\u001b[0m \u001b[0mapi_key\u001b[0m\u001b[1;33m\u001b[0m\u001b[1;33m\u001b[0m\u001b[0m\n\u001b[0m\u001b[0;32m      3\u001b[0m \u001b[1;32mimport\u001b[0m \u001b[0mpandas\u001b[0m \u001b[1;32mas\u001b[0m \u001b[0mpd\u001b[0m\u001b[1;33m\u001b[0m\u001b[1;33m\u001b[0m\u001b[0m\n\u001b[0;32m      4\u001b[0m \u001b[1;32mimport\u001b[0m \u001b[0mdatetime\u001b[0m\u001b[1;33m\u001b[0m\u001b[1;33m\u001b[0m\u001b[0m\n\u001b[0;32m      5\u001b[0m \u001b[1;32mimport\u001b[0m \u001b[0mjson\u001b[0m\u001b[1;33m\u001b[0m\u001b[1;33m\u001b[0m\u001b[0m\n",
      "\u001b[1;31mImportError\u001b[0m: cannot import name 'api_key'"
     ]
    }
   ],
   "source": [
    "import requests\n",
    "from secrets import api_key\n",
    "import pandas as pd\n",
    "import datetime\n",
    "import json\n",
    "\n",
    "#api_key = \"DEMO_KEY\"\n",
    "#api_key = \"XtkqxktX2YEZGy5tFdgNqzga9XoXR8UKH7hQ43ub\""
   ]
  },
  {
   "cell_type": "code",
   "execution_count": null,
   "metadata": {},
   "outputs": [],
   "source": [
    "print(api_key)"
   ]
  },
  {
   "cell_type": "code",
   "execution_count": null,
   "metadata": {},
   "outputs": [],
   "source": [
    "# Intro statement\n",
    "print(\"My program will provide a list of asteroids that have had a close approach to earth during a specific date range.\")\n",
    "print(\"You get to select the date range.\")\n",
    "print(\"Please enter your dates in the YYYY-MM-DD format.\")\n",
    "print(\"To look at a single date, simply enter the same date for both the start and end dates.\")"
   ]
  },
  {
   "cell_type": "code",
   "execution_count": null,
   "metadata": {},
   "outputs": [],
   "source": [
    "# Asking the user for a date range\n",
    "start_date = input(\"What date would you like to use to begin your search? Input date in format YYYY-MM-DD.\")\n",
    "end_date = input(\"What date would you like to use to end your search? Input date in format YYYY-MM-DD.\")"
   ]
  },
  {
   "cell_type": "code",
   "execution_count": null,
   "metadata": {},
   "outputs": [],
   "source": [
    "#print(start_date)\n",
    "#print(end_date)"
   ]
  },
  {
   "cell_type": "code",
   "execution_count": null,
   "metadata": {},
   "outputs": [],
   "source": [
    "#base_url = \"https://api.nasa.gov/neo/rest/v1/feed?\"\n",
    "    \n",
    "#request_url = f\"{base_url}start_date={start_date}&end_date={end_date}&api_key={api_key}\""
   ]
  },
  {
   "cell_type": "code",
   "execution_count": null,
   "metadata": {},
   "outputs": [],
   "source": [
    "#print(request_url)"
   ]
  },
  {
   "cell_type": "code",
   "execution_count": null,
   "metadata": {},
   "outputs": [],
   "source": [
    "# Creating a function to parse the data from the response\n",
    "\n",
    "def asteroids():\n",
    "    base_url = \"https://api.nasa.gov/neo/rest/v1/feed?\"\n",
    "    \n",
    "    request_url = f\"{base_url}start_date={start_date}&end_date={end_date}&api_key={api_key}\"\n",
    "    \n",
    "    get_data = requests.get(request_url)\n",
    "    \n",
    "    asteroid_data = get_data.json()\n",
    "    \n",
    "    number_of_asteroids = asteroid_data[\"element_count\"]\n",
    "    \n",
    "    asteroid_id = [item[\"near_earth_objects\"][1][\"id\"] for item in asteroid_data\n",
    "    asteroid_name = [item[\"near_earth_objects\"][1][\"name\"] for item in asteroid_data]\n",
    "    asteroid_diameter_min = [item[\"near_earth_objects\"][1][\"estimated_diameter\"][\"meters\"][\"estimated_diameter_min\"] for item in asteroid_data]\n",
    "    asteroid_diameter_max = [item[\"near_earth_objects\"][1][\"estimated_diameter\"][\"meters\"][\"estimated_diameter_max\"] for item in asteroid_data]\n",
    "    potentially_hazardous = [item[\"near_earth_objects\"][1][\"is_potentially_hazardous_asteroid\"] for item in asteroid_data]\n",
    "    close_approach_distance = [item[\"near_earth_objects\"][1][\"close_approach_data\"][\"miss_distance\"][\"kilometers\"] for item in asteroid_data]\n",
    "    approach_speed = [item[\"near_earth_objects\"][1][\"close_approach_data\"][\"relative_velocity\"][\"kilometers_per_hour\"] for item in asteroid_data]\n",
    "\n",
    "    asteroid_df = pd.DataFrame(\n",
    "        {'Asteroid ID': asteroid_id,\n",
    "        ' Asteroid Name': asteroid_name,\n",
    "        'Min Diameter': asteroid_diameter_min,\n",
    "        'Max Diameter': asteroid_diameter_max,\n",
    "        'Hazardous to Earth': potentially_hazardous,\n",
    "        'Close Approach Dist (km)': close_approach_distance,\n",
    "        'Speed at Approach': approach_speed\n",
    "        })\n",
    "\n",
    "    print(asteroid_df)"
   ]
  },
  {
   "cell_type": "code",
   "execution_count": null,
   "metadata": {},
   "outputs": [],
   "source": [
    "# Creating a dataframe for the asteroid data\n",
    "\n",
    "asteroids()\n"
   ]
  },
  {
   "cell_type": "code",
   "execution_count": null,
   "metadata": {},
   "outputs": [],
   "source": [
    "# Printing the number of asteroids returned\n",
    "print(number_of_asteroids)\n",
    "\n",
    "\n"
   ]
  },
  {
   "cell_type": "code",
   "execution_count": null,
   "metadata": {
    "scrolled": true
   },
   "outputs": [],
   "source": [
    "#print(json.dumps(asteroid_data, indent=4, sort_keys=True))"
   ]
  },
  {
   "cell_type": "code",
   "execution_count": null,
   "metadata": {},
   "outputs": [],
   "source": [
    "#url = \"https://api.nasa.gov/neo/rest/v1/feed?start_date=1977-07-12&end_date=1977-07-18&api_key=DEMO_KEY\""
   ]
  },
  {
   "cell_type": "code",
   "execution_count": null,
   "metadata": {},
   "outputs": [],
   "source": [
    "# Gathering data for each asteroid\n",
    "\n",
    "asteroid_id []\n",
    "asteroid_name []\n",
    "asteroid_diameter_min []\n",
    "asteroid_diameter_max []\n",
    "potentially_hazardous []\n",
    "close\n",
    "\n",
    "for asteroid in asteroid_data:\n",
    "    orbiting_body = asteroid_data[\"near_earth_objects\"][1][\"close_approach_data\"][\"orbiting_body\"]\n",
    "#asteroid_id = asteroid_data[\"near_earth_objects'][1][\"id\"]\n",
    "#asteroid_name = asteroid_data[\"near_earth_objects\"][1][\"name\"]\n",
    "#asteroid_diameter_min = asteroid_data[\"near_earth_objects\"][1][\"estimated_diameter\"][\"meters\"][\"estimated_diameter_min\"]\n",
    "#asteroid_diameter_max = asteroid_data[\"near_earth_objects\"][1][\"estimated_diameter\"][\"meters\"][\"estimated_diameter_max\"]\n",
    "#potentially_hazardous = asteroid_data[\"near_earth_objects\"][1][\"is_potentially_hazardous_asteroid\"]\n",
    "#close_approach_distance = asteroid_data[\"near_earth_objects'][1][\"close_approach_data\"][\"miss_distance\"][\"kilometers\"]\n",
    "#approach_speed = asteroid_data[\"near_earth_objects\"][1][\"close_approach_data\"][\"relative_velocity\"][\"kilometers_per_hour\"]"
   ]
  },
  {
   "cell_type": "code",
   "execution_count": null,
   "metadata": {},
   "outputs": [],
   "source": [
    "#get_data = requests.get(url)\n",
    "\n",
    "#asteroid_data = get_data.json()\n"
   ]
  },
  {
   "cell_type": "code",
   "execution_count": null,
   "metadata": {},
   "outputs": [],
   "source": [
    "#All Planets +- 20 years\n",
    "def obtainInfo(InitDate, EndDate, maxdist,err):\n",
    "    NasaUrl = f'https://ssd-api.jpl.nasa.gov/cad.api?body=ALL&date-min={InitDate}&date-max={EndDate}&dist-max={maxdist}&fullname=true&kind=a'\n",
    "    try:\n",
    "        resp = requests.get(NasaUrl).json()\n",
    "    except:\n",
    "        print(f'Unexpected error in obtaining data. Error Code: NasaGet{InitDate}')\n",
    "        pass\n",
    "    datapoints = resp['data']\n",
    "    resultsObt = int(resp['count'])\n",
    "    colheaders = resp['fields']\n",
    "    numColHeaders = len(colheaders)\n",
    "\n",
    "    df = pd.DataFrame([range(numColHeaders)])\n",
    "    df = df.iloc[1:]\n",
    "    df.columns = colheaders\n",
    "\n",
    "    for line in datapoints:\n",
    "        df_length = len(df)\n",
    "        df.loc[df_length] = line\n",
    "    return df\n",
    "\n"
   ]
  },
  {
   "cell_type": "code",
   "execution_count": null,
   "metadata": {},
   "outputs": [],
   "source": [
    "\n"
   ]
  },
  {
   "cell_type": "code",
   "execution_count": null,
   "metadata": {},
   "outputs": [],
   "source": []
  },
  {
   "cell_type": "code",
   "execution_count": null,
   "metadata": {},
   "outputs": [],
   "source": []
  }
 ],
 "metadata": {
  "kernelspec": {
   "display_name": "Python [conda env:PythonData]",
   "language": "python",
   "name": "conda-env-PythonData-py"
  },
  "language_info": {
   "codemirror_mode": {
    "name": "ipython",
    "version": 3
   },
   "file_extension": ".py",
   "mimetype": "text/x-python",
   "name": "python",
   "nbconvert_exporter": "python",
   "pygments_lexer": "ipython3",
   "version": "3.6.10"
  }
 },
 "nbformat": 4,
 "nbformat_minor": 4
}
